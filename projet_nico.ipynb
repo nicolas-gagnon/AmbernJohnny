{
 "cells": [
  {
   "cell_type": "code",
   "execution_count": 57,
   "id": "c84e84f6-e5cb-4cc4-abd5-2478c129c2d3",
   "metadata": {},
   "outputs": [
    {
     "name": "stderr",
     "output_type": "stream",
     "text": [
      "[nltk_data] Downloading package stopwords to\n",
      "[nltk_data]     C:\\Users\\nicol\\AppData\\Roaming\\nltk_data...\n",
      "[nltk_data]   Package stopwords is already up-to-date!\n",
      "[nltk_data] Downloading package averaged_perceptron_tagger to\n",
      "[nltk_data]     C:\\Users\\nicol\\AppData\\Roaming\\nltk_data...\n",
      "[nltk_data]   Package averaged_perceptron_tagger is already up-to-\n",
      "[nltk_data]       date!\n"
     ]
    }
   ],
   "source": [
    "import nltk\n",
    "from nltk import FreqDist\n",
    "import pandas as pd\n",
    "import numpy as np\n",
    "import pandas as pd\n",
    "import csv\n",
    "nltk.download(\"stopwords\")\n",
    "from nltk.corpus import stopwords\n",
    "from nltk.tokenize import word_tokenize\n",
    "nltk.download('averaged_perceptron_tagger')\n",
    "from nltk.draw.tree import TreeView\n",
    "import json\n",
    "day = pd.read_json (r'20_day_youtube.json')\n",
    "day.to_csv (r'20.csv', index = None)"
   ]
  },
  {
   "cell_type": "code",
   "execution_count": 3,
   "id": "b56580d2-6300-4eff-bea4-e5fea9adf455",
   "metadata": {},
   "outputs": [
    {
     "data": {
      "text/html": [
       "<div>\n",
       "<style scoped>\n",
       "    .dataframe tbody tr th:only-of-type {\n",
       "        vertical-align: middle;\n",
       "    }\n",
       "\n",
       "    .dataframe tbody tr th {\n",
       "        vertical-align: top;\n",
       "    }\n",
       "\n",
       "    .dataframe thead th {\n",
       "        text-align: right;\n",
       "    }\n",
       "</style>\n",
       "<table border=\"1\" class=\"dataframe\">\n",
       "  <thead>\n",
       "    <tr style=\"text-align: right;\">\n",
       "      <th></th>\n",
       "      <th>time_in_seconds</th>\n",
       "    </tr>\n",
       "  </thead>\n",
       "  <tbody>\n",
       "    <tr>\n",
       "      <th>count</th>\n",
       "      <td>32284.000000</td>\n",
       "    </tr>\n",
       "    <tr>\n",
       "      <th>mean</th>\n",
       "      <td>15600.652514</td>\n",
       "    </tr>\n",
       "    <tr>\n",
       "      <th>std</th>\n",
       "      <td>8494.598710</td>\n",
       "    </tr>\n",
       "    <tr>\n",
       "      <th>min</th>\n",
       "      <td>121.863000</td>\n",
       "    </tr>\n",
       "    <tr>\n",
       "      <th>25%</th>\n",
       "      <td>8002.097750</td>\n",
       "    </tr>\n",
       "    <tr>\n",
       "      <th>50%</th>\n",
       "      <td>17187.005000</td>\n",
       "    </tr>\n",
       "    <tr>\n",
       "      <th>75%</th>\n",
       "      <td>22583.004500</td>\n",
       "    </tr>\n",
       "    <tr>\n",
       "      <th>max</th>\n",
       "      <td>30132.166000</td>\n",
       "    </tr>\n",
       "  </tbody>\n",
       "</table>\n",
       "</div>"
      ],
      "text/plain": [
       "       time_in_seconds\n",
       "count     32284.000000\n",
       "mean      15600.652514\n",
       "std        8494.598710\n",
       "min         121.863000\n",
       "25%        8002.097750\n",
       "50%       17187.005000\n",
       "75%       22583.004500\n",
       "max       30132.166000"
      ]
     },
     "execution_count": 3,
     "metadata": {},
     "output_type": "execute_result"
    }
   ],
   "source": [
    "day.describe()"
   ]
  },
  {
   "cell_type": "code",
   "execution_count": 4,
   "id": "7a9a55ee-0da2-454c-b7d8-e48e5f51b1db",
   "metadata": {},
   "outputs": [
    {
     "data": {
      "text/html": [
       "<div>\n",
       "<style scoped>\n",
       "    .dataframe tbody tr th:only-of-type {\n",
       "        vertical-align: middle;\n",
       "    }\n",
       "\n",
       "    .dataframe tbody tr th {\n",
       "        vertical-align: top;\n",
       "    }\n",
       "\n",
       "    .dataframe thead th {\n",
       "        text-align: right;\n",
       "    }\n",
       "</style>\n",
       "<table border=\"1\" class=\"dataframe\">\n",
       "  <thead>\n",
       "    <tr style=\"text-align: right;\">\n",
       "      <th></th>\n",
       "      <th>action_type</th>\n",
       "      <th>author</th>\n",
       "      <th>message</th>\n",
       "      <th>message_id</th>\n",
       "      <th>message_type</th>\n",
       "      <th>time_in_seconds</th>\n",
       "      <th>time_text</th>\n",
       "      <th>timestamp</th>\n",
       "      <th>emotes</th>\n",
       "    </tr>\n",
       "  </thead>\n",
       "  <tbody>\n",
       "    <tr>\n",
       "      <th>0</th>\n",
       "      <td>add_chat_item</td>\n",
       "      <td>{'id': 'UCcF3a5pqL9Upi4fkAZcjY_g', 'images': [...</td>\n",
       "      <td>Hello</td>\n",
       "      <td>CjoKGkNNQzZ6Sl9PNl9jQ0Zkb0gxZ0FkZ0xRSnZREhxDS2...</td>\n",
       "      <td>text_message</td>\n",
       "      <td>121.863</td>\n",
       "      <td>2:01</td>\n",
       "      <td>2022-05-19 12:55:37.899407</td>\n",
       "      <td>NaN</td>\n",
       "    </tr>\n",
       "    <tr>\n",
       "      <th>1</th>\n",
       "      <td>add_chat_item</td>\n",
       "      <td>{'id': 'UCy-n3TJZEFRFQd1iS0_fOUg', 'images': [...</td>\n",
       "      <td>objection hearsay to whatever comes out of Amb...</td>\n",
       "      <td>CkUKGkNQREY0NmJPNl9jQ0ZRMEgxZ0FkZnBjQkZnEidDTm...</td>\n",
       "      <td>text_message</td>\n",
       "      <td>136.927</td>\n",
       "      <td>2:16</td>\n",
       "      <td>2022-05-19 12:55:52.957747</td>\n",
       "      <td>NaN</td>\n",
       "    </tr>\n",
       "    <tr>\n",
       "      <th>2</th>\n",
       "      <td>add_chat_item</td>\n",
       "      <td>{'id': 'UCKfnCjcWULmD1G_iQ2KMAfQ', 'images': [...</td>\n",
       "      <td>good morning besties</td>\n",
       "      <td>CjoKGkNNNnp5OERPNl9jQ0ZjcmZ3UW9kSmRzQ1JBEhxDTX...</td>\n",
       "      <td>text_message</td>\n",
       "      <td>191.028</td>\n",
       "      <td>3:11</td>\n",
       "      <td>2022-05-19 12:56:47.088123</td>\n",
       "      <td>NaN</td>\n",
       "    </tr>\n",
       "    <tr>\n",
       "      <th>3</th>\n",
       "      <td>add_chat_item</td>\n",
       "      <td>{'id': 'UCeui4cP9QMcVfk5ZlOQXI4g', 'images': [...</td>\n",
       "      <td>Johnny</td>\n",
       "      <td>CjoKGkNKTHhxdHJPNl9jQ0ZVSVRmUW9kS3pFR0VnEhxDTH...</td>\n",
       "      <td>text_message</td>\n",
       "      <td>245.016</td>\n",
       "      <td>4:05</td>\n",
       "      <td>2022-05-19 12:57:41.081288</td>\n",
       "      <td>NaN</td>\n",
       "    </tr>\n",
       "    <tr>\n",
       "      <th>4</th>\n",
       "      <td>add_chat_item</td>\n",
       "      <td>{'id': 'UCObs8TqWkpiKc0Z230k3EwQ', 'images': [...</td>\n",
       "      <td>So early!</td>\n",
       "      <td>CjoKGkNORG04LWZPNl9jQ0ZiVWdOUW9kc01nRnBnEhxDUG...</td>\n",
       "      <td>text_message</td>\n",
       "      <td>273.489</td>\n",
       "      <td>4:33</td>\n",
       "      <td>2022-05-19 12:58:09.538957</td>\n",
       "      <td>NaN</td>\n",
       "    </tr>\n",
       "  </tbody>\n",
       "</table>\n",
       "</div>"
      ],
      "text/plain": [
       "     action_type                                             author  \\\n",
       "0  add_chat_item  {'id': 'UCcF3a5pqL9Upi4fkAZcjY_g', 'images': [...   \n",
       "1  add_chat_item  {'id': 'UCy-n3TJZEFRFQd1iS0_fOUg', 'images': [...   \n",
       "2  add_chat_item  {'id': 'UCKfnCjcWULmD1G_iQ2KMAfQ', 'images': [...   \n",
       "3  add_chat_item  {'id': 'UCeui4cP9QMcVfk5ZlOQXI4g', 'images': [...   \n",
       "4  add_chat_item  {'id': 'UCObs8TqWkpiKc0Z230k3EwQ', 'images': [...   \n",
       "\n",
       "                                             message  \\\n",
       "0                                              Hello   \n",
       "1  objection hearsay to whatever comes out of Amb...   \n",
       "2                              good morning besties    \n",
       "3                                             Johnny   \n",
       "4                                          So early!   \n",
       "\n",
       "                                          message_id  message_type  \\\n",
       "0  CjoKGkNNQzZ6Sl9PNl9jQ0Zkb0gxZ0FkZ0xRSnZREhxDS2...  text_message   \n",
       "1  CkUKGkNQREY0NmJPNl9jQ0ZRMEgxZ0FkZnBjQkZnEidDTm...  text_message   \n",
       "2  CjoKGkNNNnp5OERPNl9jQ0ZjcmZ3UW9kSmRzQ1JBEhxDTX...  text_message   \n",
       "3  CjoKGkNKTHhxdHJPNl9jQ0ZVSVRmUW9kS3pFR0VnEhxDTH...  text_message   \n",
       "4  CjoKGkNORG04LWZPNl9jQ0ZiVWdOUW9kc01nRnBnEhxDUG...  text_message   \n",
       "\n",
       "   time_in_seconds time_text                  timestamp emotes  \n",
       "0          121.863      2:01 2022-05-19 12:55:37.899407    NaN  \n",
       "1          136.927      2:16 2022-05-19 12:55:52.957747    NaN  \n",
       "2          191.028      3:11 2022-05-19 12:56:47.088123    NaN  \n",
       "3          245.016      4:05 2022-05-19 12:57:41.081288    NaN  \n",
       "4          273.489      4:33 2022-05-19 12:58:09.538957    NaN  "
      ]
     },
     "execution_count": 4,
     "metadata": {},
     "output_type": "execute_result"
    }
   ],
   "source": [
    "day.head()"
   ]
  },
  {
   "cell_type": "code",
   "execution_count": 5,
   "id": "9f0febaf-6b5f-4109-bfea-aea8de92d7d8",
   "metadata": {},
   "outputs": [
    {
     "data": {
      "text/plain": [
       ":blue_heart::blue_heart::blue_heart::blue_heart::blue_heart::blue_heart::blue_heart::blue_heart::blue_heart::blue_heart:Justice for Johnny:blue_heart::blue_heart::blue_heart::blue_heart::blue_heart::blue_heart::blue_heart::blue_heart::blue_heart::blue_heart::blue_heart::blue_heart::blue_heart::blue_heart::blue_heart::blue_heart::blue_heart::blue_heart:    70\n",
       "#TRUMP4PRISON                                                                                                                                                                                                                                                                                                                                                         64\n",
       "#AmberTurd                                                                                                                                                                                                                                                                                                                                                            59\n",
       "lol                                                                                                                                                                                                                                                                                                                                                                   59\n",
       "@MnC BETA MALE :nerd_face:                                                                                                                                                                                                                                                                                                                                            50\n",
       "                                                                                                                                                                                                                                                                                                                                                                      ..\n",
       "Johnny totally should do an exhibition of the drawings. that would be cool.                                                                                                                                                                                                                                                                                            1\n",
       "40 YRS NO PROBLEM SAYS THIS GUY                                                                                                                                                                                                                                                                                                                                        1\n",
       "What kind of a creature is this ?                                                                                                                                                                                                                                                                                                                                      1\n",
       "Amber heard is my sleep paralysis demon                                                                                                                                                                                                                                                                                                                                1\n",
       "she's gonna throw him a curveball and ask him what his favourite film is in a min :rolling_on_the_floor_laughing:                                                                                                                                                                                                                                                      1\n",
       "Name: message, Length: 27551, dtype: int64"
      ]
     },
     "execution_count": 5,
     "metadata": {},
     "output_type": "execute_result"
    }
   ],
   "source": [
    "day['message'].value_counts()"
   ]
  },
  {
   "cell_type": "code",
   "execution_count": null,
   "id": "028dd19d-87f8-4fc9-8336-bc128d5729da",
   "metadata": {},
   "outputs": [],
   "source": []
  },
  {
   "cell_type": "code",
   "execution_count": 6,
   "id": "a83b9399-1c16-4cd2-bd21-92e490241c48",
   "metadata": {},
   "outputs": [],
   "source": [
    "test = day[day[\"message\"].str.contains(\"evil\")]"
   ]
  },
  {
   "cell_type": "code",
   "execution_count": 7,
   "id": "65b9d56c-30f8-4032-92c2-930877469368",
   "metadata": {},
   "outputs": [
    {
     "data": {
      "text/plain": [
       "action_type        86\n",
       "author             86\n",
       "message            86\n",
       "message_id         86\n",
       "message_type       86\n",
       "time_in_seconds    86\n",
       "time_text          86\n",
       "timestamp          86\n",
       "emotes             19\n",
       "dtype: int64"
      ]
     },
     "execution_count": 7,
     "metadata": {},
     "output_type": "execute_result"
    }
   ],
   "source": [
    "test.count()"
   ]
  },
  {
   "cell_type": "code",
   "execution_count": 8,
   "id": "b2d1f3d3-b447-4cae-ba63-a72b520b9b47",
   "metadata": {},
   "outputs": [],
   "source": [
    "day = day['message'] = day['message'].str.lower()"
   ]
  },
  {
   "cell_type": "code",
   "execution_count": 9,
   "id": "fb0655a1-ff3d-4e5d-8855-6e61b48f8260",
   "metadata": {},
   "outputs": [],
   "source": [
    "#day = day['message'].str.split(expand=True).stack().value_counts()"
   ]
  },
  {
   "cell_type": "code",
   "execution_count": 10,
   "id": "6f33727b-b3c2-4c27-b928-7768f26952a8",
   "metadata": {},
   "outputs": [
    {
     "name": "stdout",
     "output_type": "stream",
     "text": [
      "0                                                 hello\n",
      "1     objection hearsay to whatever comes out of amb...\n",
      "2                                 good morning besties \n",
      "3                                                johnny\n",
      "4                                             so early!\n",
      "5     amber rehearsing her routine crying and lies lmao\n",
      "6                    is there a way to get rid of bots?\n",
      "7                        new faces in turd's legal team\n",
      "8                                rise and shiiinnnneee!\n",
      "9                                  fart :dashing_away: \n",
      "10                            say i if u support johnny\n",
      "11             you switch it to top chat instead of all\n",
      "12                                                    i\n",
      "13                                               amber \n",
      "14                                                   hi\n",
      "15                                        :clown_face: \n",
      "16                    turd got her legal team from wish\n",
      "17    you go this johnny! stay strong. we are all he...\n",
      "18                              my dog stepped on a bee\n",
      "19                                             commence\n",
      "20                                     :dog: :honeybee:\n",
      "21        i wanna hear what they're talking about, heh.\n",
      "22                          does she have a new lawyer?\n",
      "23                                        i all the way\n",
      "24                               my mum spilled her tea\n",
      "25    we don’t need to say we support johnny cause o...\n",
      "26                           looks like the same lawyer\n",
      "27                                  my dad wants to pee\n",
      "28    he looks so handsome in his suits he wears to ...\n",
      "29                                                    t\n",
      "30                                         any stinkers\n",
      "31                                      same attorney's\n",
      "32                    i passed my math test with a 'c '\n",
      "33            the claims that her lawyer quit are false\n",
      "34           camille and johnny smiling is heartwarming\n",
      "35        johnny already one. the public is on his side\n",
      "36                        ugh, the judge is always late\n",
      "37                                        i hate amber \n",
      "38                                  todays sponsor figi\n",
      "39    anymore of ambers drugged out so called friend...\n",
      "40    amber is having a panic attack with her lawyer...\n",
      "41                                                   hi\n",
      "42                                                   hi\n",
      "43                        the judge had to lay a grumpy\n",
      "44    good morning team johnny :blue_heart::blue_hea...\n",
      "45    :blue_heart::pirate_flag:hello to all around t...\n",
      "46                          i hope amber the lier loses\n",
      "47                                #justiceforjohnnydepp\n",
      "48    even if johnny won the public side... 100 mill...\n",
      "49                                 let's go johnny !!!!\n",
      "50    johnny and his attorneys are kidding around wh...\n",
      "51    how could she not loose? she is obviously lyin...\n",
      "52                                        :pile_of_poo:\n",
      "53                                     the hell is this\n",
      "54    sister as “marriage counselor” = power dynamic...\n",
      "55    anyone else gonna be unsure what to do with th...\n",
      "56    whoever hires johnny next will make so much mo...\n",
      "57                                       sounds so fake\n",
      "58                                                  yup\n",
      "59                                                  boo\n",
      "Name: message, dtype: object\n"
     ]
    }
   ],
   "source": [
    "print(day.head(60))"
   ]
  },
  {
   "cell_type": "code",
   "execution_count": 11,
   "id": "57021080-b9ab-4382-b041-990dc3516587",
   "metadata": {},
   "outputs": [],
   "source": [
    "day_split = day['message'].str.split(expand=True).stack()"
   ]
  },
  {
   "cell_type": "code",
   "execution_count": 12,
   "id": "12318255-d94f-4681-9d21-9a3a1ada20f0",
   "metadata": {},
   "outputs": [],
   "source": [
    "day_C = day['message'].str.split(expand=True).stack().value_counts()"
   ]
  },
  {
   "cell_type": "code",
   "execution_count": 13,
   "id": "81d296fa-30c4-4d18-8cd9-071be77b5115",
   "metadata": {},
   "outputs": [
    {
     "name": "stdout",
     "output_type": "stream",
     "text": [
      "0   0              hello\n",
      "1   0          objection\n",
      "    1            hearsay\n",
      "    2                 to\n",
      "    3           whatever\n",
      "    4              comes\n",
      "    5                out\n",
      "    6                 of\n",
      "    7              amber\n",
      "    8              heard\n",
      "    9            defence\n",
      "    10         witnesses\n",
      "2   0               good\n",
      "    1            morning\n",
      "    2            besties\n",
      "3   0             johnny\n",
      "4   0                 so\n",
      "    1             early!\n",
      "5   0              amber\n",
      "    1         rehearsing\n",
      "    2                her\n",
      "    3            routine\n",
      "    4             crying\n",
      "    5                and\n",
      "    6               lies\n",
      "    7               lmao\n",
      "6   0                 is\n",
      "    1              there\n",
      "    2                  a\n",
      "    3                way\n",
      "    4                 to\n",
      "    5                get\n",
      "    6                rid\n",
      "    7                 of\n",
      "    8              bots?\n",
      "7   0                new\n",
      "    1              faces\n",
      "    2                 in\n",
      "    3             turd's\n",
      "    4              legal\n",
      "    5               team\n",
      "8   0               rise\n",
      "    1                and\n",
      "    2      shiiinnnneee!\n",
      "9   0               fart\n",
      "    1     :dashing_away:\n",
      "10  0                say\n",
      "    1                  i\n",
      "    2                 if\n",
      "    3                  u\n",
      "    4            support\n",
      "    5             johnny\n",
      "11  0                you\n",
      "    1             switch\n",
      "    2                 it\n",
      "    3                 to\n",
      "    4                top\n",
      "    5               chat\n",
      "    6            instead\n",
      "    7                 of\n",
      "dtype: object\n"
     ]
    }
   ],
   "source": [
    "print(day_split.head(60))"
   ]
  },
  {
   "cell_type": "code",
   "execution_count": 14,
   "id": "e6404dfa-0e8c-4f6a-a93c-f9bea6548470",
   "metadata": {},
   "outputs": [
    {
     "data": {
      "text/plain": [
       "the         6704\n",
       "is          6152\n",
       "a           4554\n",
       "to          4231\n",
       "amber       3620\n",
       "            ... \n",
       "wrinkles       1\n",
       "tho?           1\n",
       "idaly          1\n",
       "client?        1\n",
       "moronic        1\n",
       "Length: 25973, dtype: int64"
      ]
     },
     "execution_count": 14,
     "metadata": {},
     "output_type": "execute_result"
    }
   ],
   "source": [
    "day_split.value_counts()"
   ]
  },
  {
   "cell_type": "code",
   "execution_count": 15,
   "id": "32f29d59-be6c-44a3-bac5-a8adf247737d",
   "metadata": {},
   "outputs": [
    {
     "name": "stderr",
     "output_type": "stream",
     "text": [
      "[nltk_data] Downloading package stopwords to\n",
      "[nltk_data]     C:\\Users\\nicol\\AppData\\Roaming\\nltk_data...\n",
      "[nltk_data]   Package stopwords is already up-to-date!\n",
      "[nltk_data] Downloading package punkt to\n",
      "[nltk_data]     C:\\Users\\nicol\\AppData\\Roaming\\nltk_data...\n",
      "[nltk_data]   Package punkt is already up-to-date!\n"
     ]
    }
   ],
   "source": [
    "nltk.download(\"stopwords\")\n",
    "from nltk.corpus import stopwords\n",
    "nltk.download('punkt')\n",
    "from nltk.tokenize import word_tokenize"
   ]
  },
  {
   "cell_type": "code",
   "execution_count": 16,
   "id": "116bac67-fa4d-4bd3-bbe0-238ebe75a283",
   "metadata": {},
   "outputs": [],
   "source": [
    "worf_quote = \"Sir, I protest. I am not a merry man!\""
   ]
  },
  {
   "cell_type": "code",
   "execution_count": 17,
   "id": "7a0f4750-2485-4b1f-a214-19dacce020d7",
   "metadata": {},
   "outputs": [],
   "source": [
    "stop_words = set(stopwords.words(\"english\"))\n"
   ]
  },
  {
   "cell_type": "code",
   "execution_count": 18,
   "id": "60f6ee36-e205-475b-9423-7de17f19b249",
   "metadata": {},
   "outputs": [
    {
     "name": "stdout",
     "output_type": "stream",
     "text": [
      "0      0           hello\n",
      "1      0       objection\n",
      "       1         hearsay\n",
      "       2              to\n",
      "       3        whatever\n",
      "                ...     \n",
      "32282  8        anything\n",
      "       9              on\n",
      "       10           a.h.\n",
      "32283  0     freeloading\n",
      "       1         friends\n",
      "Length: 237047, dtype: object\n"
     ]
    }
   ],
   "source": [
    "print(day_split)"
   ]
  },
  {
   "cell_type": "code",
   "execution_count": null,
   "id": "d2500007-3573-421c-82d2-bba0ba22ea3f",
   "metadata": {},
   "outputs": [],
   "source": []
  },
  {
   "cell_type": "code",
   "execution_count": 19,
   "id": "6a9a757c-1106-4295-ae3d-88698f2687df",
   "metadata": {},
   "outputs": [],
   "source": [
    "filtered_list = []"
   ]
  },
  {
   "cell_type": "code",
   "execution_count": 20,
   "id": "bfa8a97a-f645-4010-9e9e-fca04bd8d4f6",
   "metadata": {},
   "outputs": [],
   "source": [
    "for word in day_split:\n",
    "           if word.casefold() not in stop_words:\n",
    "                filtered_list.append(word)"
   ]
  },
  {
   "cell_type": "code",
   "execution_count": 21,
   "id": "656fb03b-2c46-43aa-801e-07a9b9a08551",
   "metadata": {},
   "outputs": [],
   "source": [
    "tag = nltk.pos_tag(filtered_list)"
   ]
  },
  {
   "cell_type": "code",
   "execution_count": 60,
   "id": "6eda511b-de77-47c6-95d0-23a2156bf424",
   "metadata": {},
   "outputs": [],
   "source": [
    "#print(tag)"
   ]
  },
  {
   "cell_type": "code",
   "execution_count": 23,
   "id": "59989a44-4a4e-4eb1-a815-b0c7b8175566",
   "metadata": {},
   "outputs": [],
   "source": [
    "grammar = \"NP: {<DT>?<JJ>*<NN>}\""
   ]
  },
  {
   "cell_type": "code",
   "execution_count": 24,
   "id": "a9b38c7e-e211-4f97-9362-11777d8da989",
   "metadata": {},
   "outputs": [],
   "source": [
    "chunk_parser = nltk.RegexpParser(grammar)"
   ]
  },
  {
   "cell_type": "code",
   "execution_count": 25,
   "id": "bc89e32d-fa1d-4b76-96e0-7c8f117ca2f0",
   "metadata": {},
   "outputs": [],
   "source": [
    "tree = chunk_parser.parse(tag)\n"
   ]
  },
  {
   "cell_type": "code",
   "execution_count": 26,
   "id": "a5f76900-d5e1-4b9b-9526-64c4c3faea13",
   "metadata": {},
   "outputs": [],
   "source": [
    "frequency_distribution = FreqDist(filtered_list)"
   ]
  },
  {
   "cell_type": "code",
   "execution_count": 27,
   "id": "ea16ee67-b225-443f-bf84-4913aa4bd147",
   "metadata": {},
   "outputs": [
    {
     "name": "stdout",
     "output_type": "stream",
     "text": [
      "<FreqDist with 25818 samples and 142545 outcomes>\n"
     ]
    }
   ],
   "source": [
    "print(frequency_distribution)"
   ]
  },
  {
   "cell_type": "code",
   "execution_count": null,
   "id": "97e6dcb4-d309-472b-8adb-7984d4b5b0e0",
   "metadata": {},
   "outputs": [],
   "source": []
  },
  {
   "cell_type": "code",
   "execution_count": 49,
   "id": "f3cf3cc7-a6fb-455d-8925-aa35191e3aec",
   "metadata": {},
   "outputs": [
    {
     "data": {
      "text/plain": [
       "[('amber', 3620),\n",
       " ('johnny', 3019),\n",
       " ('depp', 1030),\n",
       " ('lol', 906),\n",
       " ('like', 878),\n",
       " ('get', 712),\n",
       " ('team', 670),\n",
       " ('justice', 613),\n",
       " ('go', 582),\n",
       " ('heard', 507),\n",
       " ('people', 497),\n",
       " ('one', 481),\n",
       " ('time', 474),\n",
       " ('turd', 440),\n",
       " ('know', 428),\n",
       " ('would', 427),\n",
       " ('jd', 422),\n",
       " ('going', 419),\n",
       " ('witness', 406),\n",
       " ('elaine', 405)]"
      ]
     },
     "execution_count": 49,
     "metadata": {},
     "output_type": "execute_result"
    }
   ],
   "source": [
    "frequency_distribution.most_common(20)"
   ]
  },
  {
   "cell_type": "code",
   "execution_count": 52,
   "id": "3625d55b-5934-4f60-a023-e1a06517448b",
   "metadata": {},
   "outputs": [],
   "source": [
    "meaningful_words = [\n",
    "    word for word in filtered_list if word.casefold() not in stop_words\n",
    "]"
   ]
  },
  {
   "cell_type": "code",
   "execution_count": 55,
   "id": "8cd4c9cc-4d79-4d11-8d3c-3a00a01564ae",
   "metadata": {},
   "outputs": [],
   "source": [
    "frequency_distribution = FreqDist(meaningful_words)"
   ]
  },
  {
   "cell_type": "code",
   "execution_count": 56,
   "id": "e70e8420-f2a6-45cb-a4b5-28daef464dce",
   "metadata": {},
   "outputs": [
    {
     "data": {
      "image/png": "[encoded data removed]",
      "text/plain": [
       "<Figure size 432x288 with 1 Axes>"
      ]
     },
     "metadata": {
      "needs_background": "light"
     },
     "output_type": "display_data"
    },
    {
     "data": {
      "text/plain": [
       "<AxesSubplot:xlabel='Samples', ylabel='Cumulative Counts'>"
      ]
     },
     "execution_count": 56,
     "metadata": {},
     "output_type": "execute_result"
    }
   ],
   "source": [
    "frequency_distribution.plot(20, cumulative=True)"
   ]
  },
  {
   "cell_type": "code",
   "execution_count": null,
   "id": "0e7bd533-2931-43af-ba61-80d337e3369c",
   "metadata": {},
   "outputs": [],
   "source": []
  },
  {
   "cell_type": "code",
   "execution_count": null,
   "id": "6bc7212b-4587-49ff-89c3-4aed52a8f359",
   "metadata": {},
   "outputs": [],
   "source": []
  }
 ],
 "metadata": {
  "kernelspec": {
   "display_name": "Python 3",
   "language": "python",
   "name": "python3"
  },
  "language_info": {
   "codemirror_mode": {
    "name": "ipython",
    "version": 3
   },
   "file_extension": ".py",
   "mimetype": "text/x-python",
   "name": "python",
   "nbconvert_exporter": "python",
   "pygments_lexer": "ipython3",
   "version": "3.8.8"
  },
  "toc-autonumbering": true,
  "toc-showmarkdowntxt": true
 },
 "nbformat": 4,
 "nbformat_minor": 5
}
